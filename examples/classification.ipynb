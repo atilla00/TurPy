{
 "cells": [
  {
   "cell_type": "code",
   "execution_count": 1,
   "metadata": {},
   "outputs": [],
   "source": [
    "import pandas as pd\n",
    "from turpy.preprocess import TextPreprocesser\n",
    "from turpy.augmentation import KeyboardAugmentator, EDAAugmentator\n",
    "from turpy.models import TfIdfClassifier\n",
    "from sklearn.model_selection import train_test_split"
   ]
  },
  {
   "cell_type": "code",
   "execution_count": 2,
   "metadata": {},
   "outputs": [
    {
     "name": "stderr",
     "output_type": "stream",
     "text": [
      "100%|██████████| 3905/3905 [00:00<00:00, 8488.39it/s]\n"
     ]
    },
    {
     "data": {
      "text/plain": [
       "0.5977482088024565"
      ]
     },
     "execution_count": 2,
     "metadata": {},
     "output_type": "execute_result"
    }
   ],
   "source": [
    "# Read data\n",
    "df = pd.read_csv(\"data/tweets.csv\").sample(frac=1, random_state=42)\n",
    "\n",
    "\n",
    "X = df[\"tweet\"]\n",
    "y = df[\"label\"]\n",
    "\n",
    "# Preprocess text\n",
    "preprocess = TextPreprocesser(\n",
    "                                lowercase=True, remove_diacritics=True, remove_extra_whitespace=True, replace_urls=True, replace_hashtags=\"<HTAG>\", replace_tags=\"<TAG>\", replace_punctuations=True,\n",
    "                                order = [\"lowercase\", \"remove_diacritics\", \"replace_punctuations\", \"remove_extra_whitespace\",\"replace_urls\", \"replace_hashtags\",\"replace_tags\"]\n",
    "                            )\n",
    "\n",
    "X = preprocess.transform(X)\n",
    "\n",
    "\n",
    "\n",
    "X_train,X_test, y_train, y_test =  train_test_split(X, y, test_size=0.2, random_state=42)\n",
    "\n",
    "# Add augmentations.\n",
    "aug_kb = KeyboardAugmentator(aug_char_max=2)\n",
    "X_aug_kb, y_aug_kb = aug_kb.fit_transform(X_train, y_train, n=5)\n",
    "\n",
    "aug_eda = EDAAugmentator(synonym_insertion_prob=0, synonym_replacement_prob=0)\n",
    "X_aug_eda, y_aug_eda = aug_eda.fit_transform(X_train, y_train, n=1)\n",
    "\n",
    "\n",
    "X_full = pd.concat([X_train, X_aug_kb, X_aug_eda], ignore_index=True, axis=0)\n",
    "y_full = pd.concat([y_train, y_aug_kb, y_aug_eda], ignore_index=True, axis=0)\n",
    "\n",
    "# Train a TfIdf Classifier\n",
    "\n",
    "model = TfIdfClassifier()\n",
    "model.fit(X_full, y_full)\n",
    "\n",
    "# Accuracy score might be different because Keyboard augmentator does not have a random_state to make it reproduceable.\n",
    "model.score(X_test,y_test)"
   ]
  },
  {
   "cell_type": "code",
   "execution_count": 3,
   "metadata": {},
   "outputs": [
    {
     "data": {
      "text/plain": [
       "0.593654042988741"
      ]
     },
     "execution_count": 3,
     "metadata": {},
     "output_type": "execute_result"
    }
   ],
   "source": [
    "# Sklearn tf-idf and without any preprocessing or augmentation. \n",
    "# Default Tf-idf Classifier is basically tf-idf + ridge\n",
    "\n",
    "df = pd.read_csv(\"data/tweets.csv\").sample(frac=1, random_state=42)\n",
    "\n",
    "X = df[\"tweet\"]\n",
    "y = df[\"label\"]\n",
    "\n",
    "X_train,X_test, y_train, y_test =  train_test_split(X, y, test_size=0.2, random_state=42)\n",
    "\n",
    "model = TfIdfClassifier()\n",
    "model.fit(X_train,y_train)\n",
    "model.score(X_test,y_test)"
   ]
  },
  {
   "cell_type": "code",
   "execution_count": null,
   "metadata": {},
   "outputs": [],
   "source": []
  }
 ],
 "metadata": {
  "interpreter": {
   "hash": "49f1ffe9f1cf3264f2d33026cf7fa424111bc1a354f27114597e5fe64745807f"
  },
  "kernelspec": {
   "display_name": "Python 3.8.11 ('turpyfull': venv)",
   "language": "python",
   "name": "python3"
  },
  "language_info": {
   "codemirror_mode": {
    "name": "ipython",
    "version": 3
   },
   "file_extension": ".py",
   "mimetype": "text/x-python",
   "name": "python",
   "nbconvert_exporter": "python",
   "pygments_lexer": "ipython3",
   "version": "3.8.11"
  },
  "orig_nbformat": 4
 },
 "nbformat": 4,
 "nbformat_minor": 2
}
