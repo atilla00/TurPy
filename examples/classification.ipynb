{
 "cells": [
  {
   "cell_type": "code",
   "execution_count": 5,
   "metadata": {},
   "outputs": [],
   "source": [
    "import pandas as pd\n",
    "from turpy.preprocess import TextPreprocesser\n",
    "from turpy.models import TfIdfClassifier\n",
    "from sklearn.model_selection import cross_val_score\n",
    "import numpy as np"
   ]
  },
  {
   "cell_type": "code",
   "execution_count": 24,
   "metadata": {},
   "outputs": [
    {
     "name": "stdout",
     "output_type": "stream",
     "text": [
      "0.636530612244898\n"
     ]
    }
   ],
   "source": [
    "# Read data\n",
    "df = pd.read_csv(\"data/topics.csv\")\n",
    "\n",
    "X = df[\"text\"]\n",
    "y = df[\"category\"]\n",
    "\n",
    "# Preprocess text\n",
    "preprocess = TextPreprocesser(\n",
    "                                remove_diacritics=True, replace_stopwords=True\n",
    "                            )\n",
    "\n",
    "X = preprocess.transform(X)\n",
    "\n",
    "# Train a TfIdf Classifier\n",
    "\n",
    "model = TfIdfClassifier()\n",
    "print(np.mean(cross_val_score(model, X, y, cv=5)))"
   ]
  },
  {
   "cell_type": "code",
   "execution_count": 25,
   "metadata": {},
   "outputs": [
    {
     "name": "stdout",
     "output_type": "stream",
     "text": [
      "0.6408163265306122\n"
     ]
    }
   ],
   "source": [
    "# Sklearn tf-idf and without any preprocessing or augmentation\n",
    "\n",
    "df = pd.read_csv(\"data/topics.csv\")\n",
    "\n",
    "X = df[\"text\"]\n",
    "y = df[\"category\"]\n",
    "\n",
    "\n",
    "model = TfIdfClassifier()\n",
    "print(np.mean(cross_val_score(model, X, y, cv=5)))"
   ]
  },
  {
   "cell_type": "code",
   "execution_count": null,
   "metadata": {},
   "outputs": [],
   "source": []
  }
 ],
 "metadata": {
  "interpreter": {
   "hash": "49f1ffe9f1cf3264f2d33026cf7fa424111bc1a354f27114597e5fe64745807f"
  },
  "kernelspec": {
   "display_name": "Python 3.8.11 ('turpyfull': venv)",
   "language": "python",
   "name": "python3"
  },
  "language_info": {
   "codemirror_mode": {
    "name": "ipython",
    "version": 3
   },
   "file_extension": ".py",
   "mimetype": "text/x-python",
   "name": "python",
   "nbconvert_exporter": "python",
   "pygments_lexer": "ipython3",
   "version": "3.8.11"
  },
  "orig_nbformat": 4
 },
 "nbformat": 4,
 "nbformat_minor": 2
}
